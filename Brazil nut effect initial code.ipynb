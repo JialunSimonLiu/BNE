{
 "cells": [
  {
   "cell_type": "markdown",
   "metadata": {},
   "source": [
    "# The Monte Carlo method"
   ]
  },
  {
   "cell_type": "code",
   "execution_count": 1,
   "metadata": {},
   "outputs": [],
   "source": [
    "import numpy as np\n",
    "%matplotlib inline\n",
    "import matplotlib.pyplot as plt\n",
    "import random\n",
    "import math"
   ]
  },
  {
   "cell_type": "code",
   "execution_count": 2,
   "metadata": {},
   "outputs": [],
   "source": [
    "random.seed(1)"
   ]
  },
  {
   "cell_type": "code",
   "execution_count": 3,
   "metadata": {},
   "outputs": [
    {
     "name": "stdout",
     "output_type": "stream",
     "text": [
      "0.13436424411240122\n"
     ]
    }
   ],
   "source": [
    "print(random.random())"
   ]
  },
  {
   "cell_type": "markdown",
   "metadata": {},
   "source": [
    "### Code to check whether particle (i.e. a nut or any other bit of muesli)  overlaps the sides or bottom of the box."
   ]
  },
  {
   "cell_type": "code",
   "execution_count": 4,
   "metadata": {},
   "outputs": [],
   "source": [
    "def condition1(r1,M):\n",
    "    \"\"\"This is a function to check whether particle (i.e. a nut or any other bit of\n",
    "    muesli) overlaps the sides or bottom of the box.\"\"\"\n",
    "    P1=np.array([random.uniform(0+r1,D-r1),random.uniform(r1,h),r1,M]) \n",
    "    #P1 is a list of array contains x,y coordinate of a nut, its radius, its mass\n",
    "    return P1\n"
   ]
  },
  {
   "cell_type": "markdown",
   "metadata": {},
   "source": [
    "### Code to check whether two particles overlap."
   ]
  },
  {
   "cell_type": "code",
   "execution_count": 5,
   "metadata": {},
   "outputs": [],
   "source": [
    "def condition2(dy,dx,r1,r2,tol):\n",
    "    \"\"\"This is a function to select the positions of the particles \n",
    "    which satisfy the condition 2 which is that there are no particles overlaping \n",
    "    with each other.\"\"\"\n",
    "    \n",
    "    d_12=np.sqrt((dx)**2+(dy)**2) # the shortest distance between the centre of mass of two particles\n",
    "    r_12=r1+r2 # sum of the radius of two particles\n",
    "    if d_12-r_12>= tol: # condition for particles not overlapping\n",
    "        return True\n",
    "    else:\n",
    "        return 0"
   ]
  },
  {
   "cell_type": "code",
   "execution_count": 6,
   "metadata": {},
   "outputs": [],
   "source": [
    "#box has width w, height h\n",
    "D=400 # D is the width of the box\n",
    "h=1200# h is the hight of the box\n",
    "def nut(Nb,Nm,rb,rm,Mb,Mm):\n",
    "    \"\"\"this is a function will found the consistent position of each particle.\n",
    "    Conditons: 1.particles do not overlap the sides or bottom of the box.\n",
    "               2.two particles do not overlap\n",
    "    \n",
    "    Nb stands for the number of brazil nut\n",
    "    Nm stands for the number of muesli\n",
    "    rb stands for the radius of the Brazil nut\n",
    "    rm stands for the radius of the muesli\n",
    "    Mb stands for the mass of the brazil nut\n",
    "    Mm stands for the mass of the muesli\"\"\"\n",
    "    \n",
    "   ########################################################################################################################## \n",
    "    \n",
    "    particles = [] # the final list which contains the information of the nut, later it will be renamed as \"data\"\n",
    "    checked = [] # a temporary list to store the information of each particle\n",
    "    while Nb != 0:  # when the number of brazil nut is not equal to 0\n",
    "        #print(condition1(rb))\n",
    "        new_particle = condition1(rb,Mb) # the  position and radius array of a new brazil nut\n",
    "        # x,y,r stands for the x,y coordinate and radius of the nut\n",
    "        x2 = new_particle[0] \n",
    "        y2 = new_particle[1]\n",
    "        r2 = new_particle[2]\n",
    "        for particle in particles:# the previous nut in the list, note:the identity of the nut is not identified\n",
    "            # x,y,r stands for the x,y coordinate and radius of the nut\n",
    "            x1 = particle[0] \n",
    "            y1 = particle[1]\n",
    "            r1 = particle[2]\n",
    "            if(condition2(abs(y2-y1),abs(x2-x1),r1,r2, 1e-4)):#if conditon 2 is satisfied, nuts will not overlap\n",
    "                checked.append(1)# add this consistent particle position to a list called 'checked' which is a temporary list\n",
    "        if len(checked) == len(particles):# particles in the list 'checked'and particles in the final list have equal amount\n",
    "            particles.append(new_particle) # the consistent new particle will be add to the final list\n",
    "            Nb -= 1#Nb will decrease to 0 from an initial value\n",
    "            checked = []\n",
    "            \n",
    "   ##########################################################################################################################             \n",
    "   # Reapeat the process for muesli.\n",
    "   # My code will check if brazil nuts overlap with mueslis as well,\n",
    "   # because the new generated particle is not defined as brazil nut\n",
    "   # or muesli.\n",
    "\n",
    "    while Nm != 0:\n",
    "        #print(condition1(rm))\n",
    "        new_particle = condition1(rm,Mm)\n",
    "        x2 = new_particle[0]\n",
    "        y2 = new_particle[1]\n",
    "        r2 = new_particle[2]\n",
    "        for particle in particles:\n",
    "            x1 = particle[0]\n",
    "            y1 = particle[1]\n",
    "            r1 = particle[2]\n",
    "            if(condition2(abs(y2-y1),abs(x2-x1),r1,r2, 1e-4)):\n",
    "                checked.append(1)\n",
    "        if len(checked) == len(particles):\n",
    "            particles.append(new_particle)\n",
    "            Nm -= 1\n",
    "            checked = []\n",
    "        \n",
    "        \n",
    "    return particles,rm # particles is the name of the final list where contains all the information of the nuts\n",
    "                         # rm is the radius of the muesli\n",
    "    \n"
   ]
  },
  {
   "cell_type": "code",
   "execution_count": 7,
   "metadata": {},
   "outputs": [],
   "source": [
    "data,rm=nut(1,2,20,10,2,1)"
   ]
  },
  {
   "cell_type": "markdown",
   "metadata": {},
   "source": [
    "### Code to find the largest nearest-neighbour distance between particles (that is, find the shortest distance from\n",
    "\n",
    "### each particle to any other particle, and then find the largest of those distances."
   ]
  },
  {
   "cell_type": "code",
   "execution_count": 8,
   "metadata": {
    "scrolled": true
   },
   "outputs": [
    {
     "name": "stdout",
     "output_type": "stream",
     "text": [
      "the nearest distance is 198.16964628847734\n",
      "the nearest distance is 199.97577908666017\n",
      "the nearest distance is 198.16964628847734\n",
      "the largest nearest distance is 199.97577908666017\n"
     ]
    }
   ],
   "source": [
    "# This is the code for condition 3 which is\n",
    "#finding the largest nearest-neighbour distance between particles \n",
    "#that is, find the shortest distance from each particle to any other particle, and then find the largest of those distances.\n",
    "\n",
    "List = [] # A temporary list to store information of neighbour distance\n",
    "largest=np.array([]) # A list to store information of the largest nearest neighbour distance\n",
    "for i in range (len(data)): # select the first nut from the \"data \" list\n",
    "    for j in range(len(data)): # select the second nut from the \"data\" list\n",
    "        if i!=j: # condition for the selected 2 nuts is not the same nut\n",
    "            dx=data[i][0]-data[j][0] # find the difference in x coordinate for the two selected nuts\n",
    "            dy=data[i][1]-data[j][1] # find the difference in y coordinate for the two selected nuts\n",
    "            r = np.sqrt(dx**2+dy**2) # the absolute value of the distance difference between the two nuts\n",
    "            List.append(r) # add each calculated distance difference to the temporary list\n",
    "    nearest_distance=min(List) # the nearest distance is the minimum value in the list\n",
    "    largest=np.append(largest,nearest_distance) # store all of the nearest distance inside of the list called 'largest'\n",
    "    print( \"the nearest distance is\",nearest_distance)\n",
    "    List.clear()\n",
    "print(\"the largest nearest distance is\", max(largest))    \n",
    "\n"
   ]
  },
  {
   "cell_type": "markdown",
   "metadata": {},
   "source": [
    "### Code to draw the arrangement of particles"
   ]
  },
  {
   "cell_type": "code",
   "execution_count": null,
   "metadata": {},
   "outputs": [],
   "source": [
    "def circle(b):\n",
    "    \"\"\"This is a function to draw the arrangement of the nuts \n",
    "    after knowing their position and radius\"\"\"\n",
    "    \n",
    "    theta=np.linspace(0,2*np.pi,200) #find 200 points between 0 and 2*Pi.\n",
    "    xc=b[0] #x position of a nut\n",
    "    yc=b[1] #y position of a nut\n",
    "    r=b[2] #radius of a nut\n",
    "    #These two lines are used to locate 200 x-y coordinates around one circle at the origin\n",
    "    xd=r*np.cos(theta)  \n",
    "    yd=r*np.sin(theta) \n",
    "    #These two lines are used to locate 200 x-y coordinates around one circle at the final position\n",
    "    x=xc+xd\n",
    "    y=yc+yd\n",
    "    return (x,y)\n"
   ]
  },
  {
   "cell_type": "code",
   "execution_count": null,
   "metadata": {},
   "outputs": [],
   "source": [
    "fig,ax = plt.subplots(1)\n",
    "import matplotlib.patches as patches\n",
    "for a in range(len(data)): # a for loop for each nut, plot each nut later\n",
    "    #print(circle(data[a]))\n",
    "    ax.set_aspect(1) #the radius is equal in any direction inside of a circle\n",
    "    ax=plt.gca()\n",
    "    if data[a][2] > rm: # plot the brazil nut if the radius of the nut is bigger than muesli\n",
    "        plt.plot(circle(data[a])[0],circle(data[a])[1], color=\"brown\", lw=7)# plot the brazil nut\n",
    "    else:\n",
    "        plt.plot(circle(data[a])[0],circle(data[a])[1], color=\"orange\",lw=4)# plot the muesli\n",
    "ax.add_patch(patches.Rectangle((0, 0), D, h,color='white'))  # plot the box\n",
    "\n",
    "    "
   ]
  },
  {
   "cell_type": "markdown",
   "metadata": {},
   "source": [
    "### Code to determine the potential energy"
   ]
  },
  {
   "cell_type": "code",
   "execution_count": null,
   "metadata": {},
   "outputs": [],
   "source": [
    "g=9.81\n",
    "def PE(data):\n",
    "    \"\"\"This is a function to find the potential energy of the system \n",
    "    which is the sum of individual nut's energy\n",
    "    the potential energy equation for each nut is E=mgh\"\"\"\n",
    "    E1=0 # identify potential energy whcih is 0 when there is no nut\n",
    "    for i in range (0,len(data)): # find the case for each nut\n",
    "        E1 += data[i][3]*g*data[i][1] # data[3] is the mass of the nut, data[1] is the y coordinate\n",
    "    return E1 # E1 is the potential energy\n",
    "\n",
    "print(\"the total potential of the system is\",PE(data),\"J\")"
   ]
  },
  {
   "cell_type": "markdown",
   "metadata": {
    "collapsed": true
   },
   "source": [
    "### The Monte Carlo model then picks any particle at random, moves it a random distance horizontally and \n",
    "\n",
    "### vertically, and if the move improves the energy and is physically possible (does not lead to overlaps), accepts \n",
    "\n",
    "### it. There are several points to note."
   ]
  },
  {
   "cell_type": "code",
   "execution_count": null,
   "metadata": {},
   "outputs": [],
   "source": [
    "# This is the code for condition 3 which is\n",
    "#finding the largest nearest-neighbour distance between particles \n",
    "#that is, find the shortest distance from each particle to any other particle, and then find the largest of those distances.\n",
    "\n",
    "def LNND(data):\n",
    "    \"\"\"This is the code for condition 3 which is\n",
    "    finding the largest nearest-neighbour distance between particles \n",
    "    that is, find the shortest distance from each particle to any other particle, \n",
    "    and then find the largest of those distances.\n",
    "    \"\"\"\n",
    "    List = [] # A temporary list to store information of neighbour distance\n",
    "    largest=np.array([]) # A list to store information of the largest nearest neighbour distance\n",
    "    \n",
    "    if len(data)>1:\n",
    "        for i in range (len(data)): # select the first nut from the \"data \" list\n",
    "            for j in range(len(data)): # select the second nut from the \"data\" list\n",
    "                if i!=j: # condition for the selected 2 nuts is not the same nut\n",
    "                    dx=data[i][0]-data[j][0] # find the difference in x coordinate for the two selected nuts\n",
    "                    dy=data[i][1]-data[j][1] # find the difference in y coordinate for the two selected nuts\n",
    "                    r = np.sqrt(dx**2+dy**2) # the absolute value of the distance difference between the two nuts\n",
    "                    List.append(r) # add each calculated distance difference to the temporary list\n",
    "            nearest_distance=min(List) # the nearest distance is the minimum value in the list\n",
    "            largest=np.append(largest,nearest_distance) # store all of the nearest distance inside of the list called 'largest'\n",
    "            #print( \"the nearest distance is\",nearest_distance)\n",
    "            List.clear()\n",
    "        LNND=max(largest) # LNND is the largest nearest neighbour distance\n",
    "    else:\n",
    "        LNND=data[0][1] # if there is one nut, its largest nearest neighbour distance is between itself and the ground\n",
    "        \n",
    "    return LNND\n",
    "def LNND_method(dy,dx,r,tol):\n",
    "    \"\"\"this is the method of the largest nearest neighbour distance\"\"\"\n",
    "\n",
    "    if len(data)>1:\n",
    "        d_12=np.sqrt((dx)**2+(dy)**2) # the shortest distance between the centre of mass of two particles\n",
    "    \n",
    "        if r-d_12 >= tol: # condition for the largest nearest distance larger or equal to the step length of the selected nut\n",
    "            return True\n",
    "        else:\n",
    "            return 0\n",
    "    else:\n",
    "        return True"
   ]
  },
  {
   "cell_type": "markdown",
   "metadata": {},
   "source": [
    "• The algorithm does not follow the path of a particle – the particle just \"jumps\", which means that it might get from A to B\n",
    "even though there is no passage between A and B which is wide\n",
    "enough.\n",
    "• Particles move sideways as well as vertically – imagine this to\n",
    "represent the effect of bouncing off the walls.\n",
    "• Use the largest nearest-neighbour distance to control the step\n",
    "length. This will help to ensure that as many as possible of the\n",
    "moves attempted are accepted.\n"
   ]
  },
  {
   "cell_type": "code",
   "execution_count": null,
   "metadata": {},
   "outputs": [],
   "source": [
    "\"\"\"This code will move a random selected particle to a random position. \n",
    "    The position satisfies 3 conditions:\n",
    "    condition 1:the new positon of the particle will not overlap with any existing particle\n",
    "    condition 2:each move will decrease the potential energy of the system\n",
    "    condition 3:Use the largest nearest-neighbour distance to control the step length. \n",
    "    This will help to ensure that as many as possible of the moves attempted are accepted.\"\"\"\n",
    "#####################################################################################################################\n",
    "#initial condition for the nuts\n",
    "\n",
    "rm = 10 # radius of muesli\n",
    "rb = 20 # radius of brazil nut\n",
    "Mm =1 # mass of muesli\n",
    "Mb =2 # mass of brazil nut\n",
    "\n",
    "#####################################################################################################################\n",
    "# a random selected particle will be removed and teleport to another position in the box \n",
    "#under 3 conditons that are mentioned before\n",
    "\n",
    "n=0\n",
    "while n < 3: # repeat the process to settle nuts down\n",
    "    \n",
    "    LNND(data)# find the largest nearest distance in the list 'data'\n",
    "    #print(LNND(data))\n",
    "    particle_num = len(data)# total particle numbers\n",
    "#####################################################################################################################    \n",
    "#information of the selected particle\n",
    "    \n",
    "    RP_number = random.randint(0,particle_num-1) # the number of the selected nut in the \"data\" list\n",
    "    RP_array=np.array([data[RP_number]])# the array for the selected data\n",
    "    E_initial=PE(RP_array) # the potential energy of the random selected nut\n",
    "    x1 = RP_array[0][0] # the x position of the selected nut\n",
    "    y1 = RP_array[0][1] # the y position of the selected nut\n",
    "    r1 = RP_array[0][2] # radius of the selected nut\n",
    "    \n",
    "    #Identifying the selected particle\n",
    "    if r1==rm:# if the randomly selected and deleted particle has the radius of a muesli\n",
    "        r = rm # the new particle need to be generated should have the radius of a muesli\n",
    "        m= Mm # the mass of the new particle should also be the mass of a muesli\n",
    "    else: #if not, the new particle should have the radius and mass of a brazil nut\n",
    "        r= rb\n",
    "        m= Mb\n",
    "#####################################################################################################################\n",
    "# erase the selected particle \n",
    "\n",
    "    del data[RP_number]# I need to store this to data1 remove one information of the randomly selected nut\n",
    "    #print(data)\n",
    "#####################################################################################################################\n",
    "# use loops to change the arrangement of nuts in the same box\n",
    "# set the largest nearest distance as the step length, reject any location which is out of the distance\n",
    "\n",
    "    N = 1 \n",
    "    check_list= []\n",
    "    while N != 0:  # when the total number of the nuts is not equal to 0\n",
    "        new_particle = condition1(r,m) # the  position and radius array of a new particle \n",
    "        x2 = new_particle[0] \n",
    "        y2 = new_particle[1]\n",
    "        r2 = new_particle[2]\n",
    "        E_final=PE(np.array([new_particle]))\n",
    "        #print(data)\n",
    "        \n",
    "        if E_initial-E_final>1e-6: # potential energy of the system decreases\n",
    "            if len(data)>=1: # the largest nearest neighbour distance require 2 nuts minimum.\n",
    "                                # by losing one nut, the amount of nut shoulbe be greater and equal to 1 for the condition to apply \n",
    "                if LNND_method(abs(y2-y1),abs(x2-x1),LNND(data),1e-6): # the largest nearest distance method is satisfied\n",
    "                    data.append(new_particle)\n",
    "                    N -= 1\n",
    "                # Write a code to check conditon 2 for each existing nut and the new nut\n",
    "               \n",
    "            else:\n",
    "                data.append(new_particle)\n",
    "                #print(data)\n",
    "                N -= 1 #Nb will decrease to 0 from an initial value\n",
    "    print(RP_number,data,PE(data)) \n",
    "    fig,ax = plt.subplots(1)\n",
    "    import matplotlib.patches as patches\n",
    "    for a in range(len(data)): # a for loop for each nut, plot each nut later\n",
    "    \n",
    "        ax.set_aspect(1) #the radius is equal in any direction inside of a circle\n",
    "        ax=plt.gca()\n",
    "        if data[a][2] > rm: # plot the brazil nut if the radius of the nut is bigger than muesli\n",
    "            plt.plot(circle(data[a])[0],circle(data[a])[1], color=\"brown\", lw=7)# plot the brazil nut\n",
    "        else:\n",
    "            plt.plot(circle(data[a])[0],circle(data[a])[1], color=\"orange\",lw=4)# plot the muesli\n",
    "    ax.add_patch(patches.Rectangle((0, 0), D, h,color='white'))  # plot the box\n",
    "\n",
    "    \n",
    "    n+=1\n",
    "    \n",
    "#####################################################################################################################\n",
    "#ploting\n",
    "\n"
   ]
  },
  {
   "cell_type": "code",
   "execution_count": null,
   "metadata": {},
   "outputs": [],
   "source": []
  },
  {
   "cell_type": "code",
   "execution_count": null,
   "metadata": {},
   "outputs": [],
   "source": []
  }
 ],
 "metadata": {
  "kernelspec": {
   "display_name": "Python 3",
   "language": "python",
   "name": "python3"
  },
  "language_info": {
   "codemirror_mode": {
    "name": "ipython",
    "version": 3
   },
   "file_extension": ".py",
   "mimetype": "text/x-python",
   "name": "python",
   "nbconvert_exporter": "python",
   "pygments_lexer": "ipython3",
   "version": "3.7.3"
  }
 },
 "nbformat": 4,
 "nbformat_minor": 2
}
